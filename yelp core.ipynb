{
 "cells": [
  {
   "cell_type": "markdown",
   "id": "d7c1932c-e328-4c54-bb03-97d5c34da439",
   "metadata": {},
   "source": [
    "# Yelp Core"
   ]
  },
  {
   "cell_type": "code",
   "execution_count": 1,
   "id": "804b823c-f663-40bf-948b-916aaf45ce5a",
   "metadata": {},
   "outputs": [],
   "source": [
    "#standard imports\n",
    "import numpy as np\n",
    "import pandas as pd\n",
    "import matplotlib.pyplot as plt\n",
    "import seaborn as sns\n",
    "#Additional Imports\n",
    "import os,json,math,time\n",
    "from yelpapi import YelpAPI\n",
    "from tqdm.notebook import tqdm_notebook"
   ]
  },
  {
   "cell_type": "markdown",
   "id": "71fe5b14-dc68-4005-8fd4-34a7cc026a13",
   "metadata": {},
   "source": [
    "### Open with secret file"
   ]
  },
  {
   "cell_type": "code",
   "execution_count": 2,
   "id": "db6cb42a-3971-4f07-bc96-4ac8f4aa448c",
   "metadata": {},
   "outputs": [
    {
     "data": {
      "text/plain": [
       "dict_keys(['client-id', 'api-key'])"
      ]
     },
     "execution_count": 2,
     "metadata": {},
     "output_type": "execute_result"
    }
   ],
   "source": [
    "import json\n",
    "with open('/Users/rowenahan/.secret/yelp_api.json') as f: #change the path to match YOUR path!!\n",
    "    login = json.load(f)\n",
    "login.keys()"
   ]
  },
  {
   "cell_type": "code",
   "execution_count": 3,
   "id": "822abe43-4734-4aff-9975-991831594513",
   "metadata": {},
   "outputs": [
    {
     "data": {
      "text/plain": [
       "<yelpapi.yelpapi.YelpAPI at 0x103ef5330>"
      ]
     },
     "execution_count": 3,
     "metadata": {},
     "output_type": "execute_result"
    }
   ],
   "source": [
    "from yelpapi import YelpAPI\n",
    "yelp_api = YelpAPI(login[\"api-key\"],timeout_s=5.0)\n",
    "yelp_api"
   ]
  },
  {
   "cell_type": "markdown",
   "id": "8e0252f0-d97e-40df-a179-f4f7d189066e",
   "metadata": {},
   "source": [
    "## Search for Favorite food\n",
    "    - was orginal pizza but accdently deleted notebook\n",
    "        -remade but kept getting error with n_results so switch to sushi"
   ]
  },
  {
   "cell_type": "code",
   "execution_count": 4,
   "id": "a3bd3fe8-de0f-48a5-a6d7-fb75adfe9b67",
   "metadata": {},
   "outputs": [],
   "source": [
    "LOCATION = \"Oahu, Hawaii\"\n",
    "TERM = \"Sushi\""
   ]
  },
  {
   "cell_type": "code",
   "execution_count": 5,
   "id": "103bdffa-cdeb-4231-ba04-f53d3a3a28d3",
   "metadata": {},
   "outputs": [
    {
     "data": {
      "text/plain": [
       "'Data/results_in_progress_HNL_pizza.json'"
      ]
     },
     "execution_count": 5,
     "metadata": {},
     "output_type": "execute_result"
    }
   ],
   "source": [
    "#Specifying JSON_FILE filename (can include a folder\n",
    "#includ the search term in the filename)\n",
    "JSON_FILE = \"Data/results_in_progress_HNL_pizza.json\"\n",
    "JSON_FILE"
   ]
  },
  {
   "cell_type": "markdown",
   "id": "023de0d2-d38f-40cc-ad33-dbd90c477dd9",
   "metadata": {},
   "source": [
    "## Making files "
   ]
  },
  {
   "cell_type": "code",
   "execution_count": 6,
   "id": "441de0ce-8026-4bc5-9182-55ff9b142918",
   "metadata": {},
   "outputs": [
    {
     "name": "stdout",
     "output_type": "stream",
     "text": [
      "[i] Data/results_in_progress_HNL_pizza.json already exists.\n"
     ]
    }
   ],
   "source": [
    "# Check if JSON_FILE exists\n",
    "file_exists=os.path.isfile(JSON_FILE)\n",
    "#If it does not exist:\n",
    "if file_exists==False:\n",
    "    #Create any needed folders\n",
    "    #get the folder Name only\n",
    "    folder=os.path.dirname(JSON_FILE)\n",
    "    #IF JSON_FILE included a folder\n",
    "    if len(folder)>0:\n",
    "        #create the folder\n",
    "        os.makedirs(folder,exist_ok=True)\n",
    "\n",
    "    #INFORM USER AND SAVE EMPTY LIST\n",
    "    print(f\"[i] {JSON_FILE} not found. Saving empty list to file\")\n",
    "\n",
    "    #save an empty list\n",
    "    with open(JSON_FILE, \"w\") as f:\n",
    "        json.dump([],f)\n",
    "#if it exists, inform user\n",
    "else:\n",
    "    print(f\"[i] {JSON_FILE} already exists.\")"
   ]
  },
  {
   "cell_type": "code",
   "execution_count": 7,
   "id": "38e628bc-81a8-4d89-9dfa-366fb3fdab23",
   "metadata": {},
   "outputs": [
    {
     "name": "stdout",
     "output_type": "stream",
     "text": [
      "- 0 previous resuts found.\n"
     ]
    }
   ],
   "source": [
    "#Load previous results and use len of results for offset\n",
    "with open(JSON_FILE,\"r\") as f:\n",
    "    previous_results = json.load(f)\n",
    "#Set offset based on previous results\n",
    "n_results = len(previous_results)\n",
    "print(f\"- {n_results} previous resuts found.\")"
   ]
  },
  {
   "cell_type": "code",
   "execution_count": 8,
   "id": "d2a9d890-eb3c-4823-91d9-14a36489918c",
   "metadata": {},
   "outputs": [
    {
     "data": {
      "text/plain": [
       "dict_keys(['businesses', 'total', 'region'])"
      ]
     },
     "execution_count": 8,
     "metadata": {},
     "output_type": "execute_result"
    }
   ],
   "source": [
    "search_results = yelp_api.search_query(location = LOCATION,\n",
    "                                      term= TERM,\n",
    "                                      offset=n_results)\n",
    "\n",
    "search_results.keys()"
   ]
  },
  {
   "cell_type": "code",
   "execution_count": 9,
   "id": "03314682-f7bd-4ee3-921d-a3051d271d3d",
   "metadata": {},
   "outputs": [
    {
     "name": "stdout",
     "output_type": "stream",
     "text": [
      "<class 'dict'>\n"
     ]
    }
   ],
   "source": [
    "search_results[\"total\"]\n",
    "print(type(search_results))"
   ]
  },
  {
   "cell_type": "code",
   "execution_count": 10,
   "id": "20d231f1-65e3-42cb-b102-2cb46db5f8df",
   "metadata": {},
   "outputs": [
    {
     "data": {
      "text/plain": [
       "20"
      ]
     },
     "execution_count": 10,
     "metadata": {},
     "output_type": "execute_result"
    }
   ],
   "source": [
    "#How many did we get the details for?\n",
    "results_per_page = len(search_results[\"businesses\"])\n",
    "results_per_page"
   ]
  },
  {
   "cell_type": "code",
   "execution_count": 11,
   "id": "d277e346-2a12-4689-8def-bdf4b79b6b33",
   "metadata": {},
   "outputs": [
    {
     "data": {
      "text/plain": [
       "47"
      ]
     },
     "execution_count": 11,
     "metadata": {},
     "output_type": "execute_result"
    }
   ],
   "source": [
    "#import additional packages for controlling our loop\n",
    "import time, math\n",
    "#Use math.ceil to round up for the total number of pages of results.\n",
    "n_pages = math.ceil((search_results[\"total\"]-n_results)/results_per_page)\n",
    "n_pages"
   ]
  },
  {
   "cell_type": "code",
   "execution_count": 12,
   "id": "d4653d84-0631-4a40-951a-1926231a6456",
   "metadata": {},
   "outputs": [
    {
     "name": "stdout",
     "output_type": "stream",
     "text": [
      "Requirement already satisfied: tqdm in /opt/homebrew/Caskroom/miniforge/base/envs/dojo-env/lib/python3.10/site-packages (4.65.0)\n",
      "Note: you may need to restart the kernel to use updated packages.\n"
     ]
    }
   ],
   "source": [
    "pip install tqdm"
   ]
  },
  {
   "cell_type": "markdown",
   "id": "5ac7d96a-f574-4cf1-9448-daa8b5f8a0eb",
   "metadata": {},
   "source": [
    "## Loading files"
   ]
  },
  {
   "cell_type": "code",
   "execution_count": 13,
   "id": "e3c3a697-03e7-4900-b8fa-d9267b3d08c3",
   "metadata": {},
   "outputs": [
    {
     "data": {
      "application/vnd.jupyter.widget-view+json": {
       "model_id": "a337025c7c6344b9bbb35b70ad5ddaee",
       "version_major": 2,
       "version_minor": 0
      },
      "text/plain": [
       "  0%|          | 0/47 [00:00<?, ?it/s]"
      ]
     },
     "metadata": {},
     "output_type": "display_data"
    }
   ],
   "source": [
    "from tqdm.notebook import tqdm_notebook\n",
    "import time\n",
    "for i in tqdm_notebook(range(n_pages)):\n",
    "    #adds 200 ms pause\n",
    "    time.sleep(.2)"
   ]
  },
  {
   "cell_type": "markdown",
   "id": "6051153d-774a-45be-9977-34371610bc8d",
   "metadata": {},
   "source": [
    "## Delete after testing and rerun"
   ]
  },
  {
   "cell_type": "code",
   "execution_count": 14,
   "id": "d46b3c34-fc5c-4502-ae82-188f9c43c1f4",
   "metadata": {},
   "outputs": [
    {
     "data": {
      "text/plain": [
       "False"
      ]
     },
     "execution_count": 14,
     "metadata": {},
     "output_type": "execute_result"
    }
   ],
   "source": [
    "os.remove(JSON_FILE)\n",
    "os.path.isfile(JSON_FILE)"
   ]
  },
  {
   "cell_type": "code",
   "execution_count": 15,
   "id": "f7138215-75a3-4915-87e8-3284827f4f27",
   "metadata": {},
   "outputs": [],
   "source": [
    "def create_json_file(JSON_FILE, delete_if_exists=False):\n",
    "        #check if JSON_FILE exists\n",
    "        file_exists=os.path.isfile(JSON_FILE)\n",
    "        # if it DOSE exist:\n",
    "        if file_exists == True:\n",
    "            #check if user wants to delete if exists\n",
    "            if delete_if_exists==True:\n",
    "                print(f\"[!]  {JSON_FILE} already exists. Deleting previous file...\")\n",
    "                #delet file and confirm it no longer exits\n",
    "                os.remove(JSON_FILE)\n",
    "                # recursive call to function after old file deleted\n",
    "                create_json_file(JSON_FILE, delete_if_exists=False)\n",
    "            else:\n",
    "                print(f\"[i] {JSON_FILE} already exists.\")\n",
    "        #if it dose NOT exist:\n",
    "        else:\n",
    "            #infor user and save empty list\n",
    "            print(f\"[i] {JSON_FILE} not found. Sving empty list to new file.\")\n",
    "            # Create any needed folders\n",
    "            #Get the folder name only\n",
    "            folder=os.path.dirname(JSON_FILE)\n",
    "            #if JSON_FILE included a folder\n",
    "            if len(folder)>0:\n",
    "                #create the folder\n",
    "                os.makedirs(folder,exist_ok=True)\n",
    "            #save empty list to start the json file\n",
    "            with open(JSON_FILE,\"w\") as f:\n",
    "                json.dump([],f)"
   ]
  },
  {
   "cell_type": "code",
   "execution_count": 16,
   "id": "8aa9041c-05c2-4278-9aeb-774a338da8c8",
   "metadata": {},
   "outputs": [
    {
     "name": "stdout",
     "output_type": "stream",
     "text": [
      "[i] Data/results_in_progress_HNL_pizza.json not found. Sving empty list to new file.\n",
      "- 0 previoous results found.\n"
     ]
    },
    {
     "data": {
      "text/plain": [
       "47"
      ]
     },
     "execution_count": 16,
     "metadata": {},
     "output_type": "execute_result"
    }
   ],
   "source": [
    "# Create a new empty json file (exist the previous if it exists)\n",
    "create_json_file(JSON_FILE,delete_if_exists=True)\n",
    "# loadprevious results and use en of results for offset\n",
    "with open(JSON_FILE,\"r\") as f:\n",
    "    previous_results=json.load(f)\n",
    "#set offset based on previous results\n",
    "n_results=len(previous_results)\n",
    "print(f\"- {n_results} previoous results found.\")\n",
    "#use our yelp_api variable\"s search_query method to perform our API call\n",
    "results=yelp_api.search_query(location=LOCATION,\n",
    "                             term=TERM,\n",
    "                             offset=n_results)\n",
    "#how many results total?\n",
    "total_results = results[\"total\"]\n",
    "#how many did we get the details for?\n",
    "resutls_per_page = len(results[\"businesses\"])\n",
    "#use math ceil to round up for the total number of pages of results\n",
    "n_pages = math.ceil((results[\"total\"]-n_results)/results_per_page)\n",
    "n_pages"
   ]
  },
  {
   "cell_type": "code",
   "execution_count": 17,
   "id": "8460f114-d3c8-4628-9817-34a5a11f592a",
   "metadata": {},
   "outputs": [
    {
     "data": {
      "application/vnd.jupyter.widget-view+json": {
       "model_id": "4a0013885a144582acb01dc0644d99dd",
       "version_major": 2,
       "version_minor": 0
      },
      "text/plain": [
       "  0%|          | 0/47 [00:00<?, ?it/s]"
      ]
     },
     "metadata": {},
     "output_type": "display_data"
    }
   ],
   "source": [
    "for i in tqdm_notebook(range(1,n_pages+1)):\n",
    "    #Read in results in progress file and check the length\n",
    "    with open(JSON_FILE,\"r\") as f:\n",
    "        previous_results= json.load(f)\n",
    "     #same number of results for the use as offset\n",
    "    n_results=len(previous_results)\n",
    "    if (n_results + results_per_page)>1000:\n",
    "        print(\"Exceeded 1000 api calls. Stopping loop.\")\n",
    "        break\n",
    "\n",
    "    #use n_results as the offset\n",
    "    results=yelp_api.search_query(location=LOCATION,\n",
    "                                 term=TERM,\n",
    "                                 offset=n_results)\n",
    "    #append new results and save to file\n",
    "    previous_results.extend(results[\"businesses\"])\n",
    "    #display (previous_results)\n",
    "    with open(JSON_FILE,\"w\") as f:\n",
    "        json.dump(previous_results,f)\n",
    "\n",
    "    time.sleep(.2)"
   ]
  },
  {
   "cell_type": "code",
   "execution_count": 18,
   "id": "a01fb257-5b99-4547-90fa-f148827b3ec2",
   "metadata": {},
   "outputs": [
    {
     "data": {
      "text/html": [
       "<div>\n",
       "<style scoped>\n",
       "    .dataframe tbody tr th:only-of-type {\n",
       "        vertical-align: middle;\n",
       "    }\n",
       "\n",
       "    .dataframe tbody tr th {\n",
       "        vertical-align: top;\n",
       "    }\n",
       "\n",
       "    .dataframe thead th {\n",
       "        text-align: right;\n",
       "    }\n",
       "</style>\n",
       "<table border=\"1\" class=\"dataframe\">\n",
       "  <thead>\n",
       "    <tr style=\"text-align: right;\">\n",
       "      <th></th>\n",
       "      <th>id</th>\n",
       "      <th>alias</th>\n",
       "      <th>name</th>\n",
       "      <th>image_url</th>\n",
       "      <th>is_closed</th>\n",
       "      <th>url</th>\n",
       "      <th>review_count</th>\n",
       "      <th>categories</th>\n",
       "      <th>rating</th>\n",
       "      <th>coordinates</th>\n",
       "      <th>transactions</th>\n",
       "      <th>price</th>\n",
       "      <th>location</th>\n",
       "      <th>phone</th>\n",
       "      <th>display_phone</th>\n",
       "      <th>distance</th>\n",
       "    </tr>\n",
       "  </thead>\n",
       "  <tbody>\n",
       "    <tr>\n",
       "      <th>0</th>\n",
       "      <td>FxLPg0wJb-q76AFMd9oSHQ</td>\n",
       "      <td>the-clubhouse-mililani</td>\n",
       "      <td>The Clubhouse</td>\n",
       "      <td>https://s3-media2.fl.yelpcdn.com/bphoto/ocVYJL...</td>\n",
       "      <td>False</td>\n",
       "      <td>https://www.yelp.com/biz/the-clubhouse-mililan...</td>\n",
       "      <td>98</td>\n",
       "      <td>[{'alias': 'sushi', 'title': 'Sushi Bars'}, {'...</td>\n",
       "      <td>4.5</td>\n",
       "      <td>{'latitude': 21.4540805, 'longitude': -158.022...</td>\n",
       "      <td>[]</td>\n",
       "      <td>$$</td>\n",
       "      <td>{'address1': '95-176 Kuahelani Ave', 'address2...</td>\n",
       "      <td>+18087840048</td>\n",
       "      <td>(808) 784-0048</td>\n",
       "      <td>6942.379386</td>\n",
       "    </tr>\n",
       "    <tr>\n",
       "      <th>1</th>\n",
       "      <td>MocT7ajwthZ7QAdz17xMPg</td>\n",
       "      <td>sushi-spot-aiea</td>\n",
       "      <td>Sushi Spot</td>\n",
       "      <td>https://s3-media1.fl.yelpcdn.com/bphoto/NUPtVy...</td>\n",
       "      <td>False</td>\n",
       "      <td>https://www.yelp.com/biz/sushi-spot-aiea?adjus...</td>\n",
       "      <td>1039</td>\n",
       "      <td>[{'alias': 'japanese', 'title': 'Japanese'}, {...</td>\n",
       "      <td>4.5</td>\n",
       "      <td>{'latitude': 21.37878, 'longitude': -157.93136}</td>\n",
       "      <td>[delivery]</td>\n",
       "      <td>$$</td>\n",
       "      <td>{'address1': '99-209 Moanalua Rd', 'address2':...</td>\n",
       "      <td>+18084852255</td>\n",
       "      <td>(808) 485-2255</td>\n",
       "      <td>12122.550519</td>\n",
       "    </tr>\n",
       "    <tr>\n",
       "      <th>2</th>\n",
       "      <td>2V3peIO6IvumIPLoOie-hA</td>\n",
       "      <td>california-beach-rock-n-sushi-aiea-6</td>\n",
       "      <td>California Beach Rock n' Sushi</td>\n",
       "      <td>https://s3-media2.fl.yelpcdn.com/bphoto/Fc9bG-...</td>\n",
       "      <td>False</td>\n",
       "      <td>https://www.yelp.com/biz/california-beach-rock...</td>\n",
       "      <td>346</td>\n",
       "      <td>[{'alias': 'sushi', 'title': 'Sushi Bars'}, {'...</td>\n",
       "      <td>4.5</td>\n",
       "      <td>{'latitude': 21.381708, 'longitude': -157.93995}</td>\n",
       "      <td>[delivery]</td>\n",
       "      <td>$$</td>\n",
       "      <td>{'address1': '98-151 Pali Momi St', 'address2'...</td>\n",
       "      <td>+18085978000</td>\n",
       "      <td>(808) 597-8000</td>\n",
       "      <td>11564.444122</td>\n",
       "    </tr>\n",
       "    <tr>\n",
       "      <th>3</th>\n",
       "      <td>WSc-f2pM7I25HNn7kb0b9g</td>\n",
       "      <td>sushi-bay-kapolei</td>\n",
       "      <td>Sushi Bay</td>\n",
       "      <td>https://s3-media3.fl.yelpcdn.com/bphoto/JgzNV-...</td>\n",
       "      <td>False</td>\n",
       "      <td>https://www.yelp.com/biz/sushi-bay-kapolei?adj...</td>\n",
       "      <td>1800</td>\n",
       "      <td>[{'alias': 'sushi', 'title': 'Sushi Bars'}]</td>\n",
       "      <td>4.0</td>\n",
       "      <td>{'latitude': 21.3385086, 'longitude': -158.079...</td>\n",
       "      <td>[delivery]</td>\n",
       "      <td>$$</td>\n",
       "      <td>{'address1': '91-590 Farrington Hwy', 'address...</td>\n",
       "      <td>+18086939922</td>\n",
       "      <td>(808) 693-9922</td>\n",
       "      <td>20050.213924</td>\n",
       "    </tr>\n",
       "    <tr>\n",
       "      <th>4</th>\n",
       "      <td>QoxHbYIYxRh2OJmv6kbtlQ</td>\n",
       "      <td>kizuna-japanese-sushi-and-grill-kaneohe</td>\n",
       "      <td>Kizuna Japanese Sushi And Grill</td>\n",
       "      <td>https://s3-media2.fl.yelpcdn.com/bphoto/acFFA4...</td>\n",
       "      <td>False</td>\n",
       "      <td>https://www.yelp.com/biz/kizuna-japanese-sushi...</td>\n",
       "      <td>371</td>\n",
       "      <td>[{'alias': 'sushi', 'title': 'Sushi Bars'}, {'...</td>\n",
       "      <td>4.5</td>\n",
       "      <td>{'latitude': 21.41379862638154, 'longitude': -...</td>\n",
       "      <td>[delivery]</td>\n",
       "      <td>$$</td>\n",
       "      <td>{'address1': '45-934 Kamehameha Hwy', 'address...</td>\n",
       "      <td>+18082341688</td>\n",
       "      <td>(808) 234-1688</td>\n",
       "      <td>18617.186416</td>\n",
       "    </tr>\n",
       "  </tbody>\n",
       "</table>\n",
       "</div>"
      ],
      "text/plain": [
       "                       id                                    alias  \\\n",
       "0  FxLPg0wJb-q76AFMd9oSHQ                   the-clubhouse-mililani   \n",
       "1  MocT7ajwthZ7QAdz17xMPg                          sushi-spot-aiea   \n",
       "2  2V3peIO6IvumIPLoOie-hA     california-beach-rock-n-sushi-aiea-6   \n",
       "3  WSc-f2pM7I25HNn7kb0b9g                        sushi-bay-kapolei   \n",
       "4  QoxHbYIYxRh2OJmv6kbtlQ  kizuna-japanese-sushi-and-grill-kaneohe   \n",
       "\n",
       "                              name  \\\n",
       "0                    The Clubhouse   \n",
       "1                       Sushi Spot   \n",
       "2   California Beach Rock n' Sushi   \n",
       "3                        Sushi Bay   \n",
       "4  Kizuna Japanese Sushi And Grill   \n",
       "\n",
       "                                           image_url  is_closed  \\\n",
       "0  https://s3-media2.fl.yelpcdn.com/bphoto/ocVYJL...      False   \n",
       "1  https://s3-media1.fl.yelpcdn.com/bphoto/NUPtVy...      False   \n",
       "2  https://s3-media2.fl.yelpcdn.com/bphoto/Fc9bG-...      False   \n",
       "3  https://s3-media3.fl.yelpcdn.com/bphoto/JgzNV-...      False   \n",
       "4  https://s3-media2.fl.yelpcdn.com/bphoto/acFFA4...      False   \n",
       "\n",
       "                                                 url  review_count  \\\n",
       "0  https://www.yelp.com/biz/the-clubhouse-mililan...            98   \n",
       "1  https://www.yelp.com/biz/sushi-spot-aiea?adjus...          1039   \n",
       "2  https://www.yelp.com/biz/california-beach-rock...           346   \n",
       "3  https://www.yelp.com/biz/sushi-bay-kapolei?adj...          1800   \n",
       "4  https://www.yelp.com/biz/kizuna-japanese-sushi...           371   \n",
       "\n",
       "                                          categories  rating  \\\n",
       "0  [{'alias': 'sushi', 'title': 'Sushi Bars'}, {'...     4.5   \n",
       "1  [{'alias': 'japanese', 'title': 'Japanese'}, {...     4.5   \n",
       "2  [{'alias': 'sushi', 'title': 'Sushi Bars'}, {'...     4.5   \n",
       "3        [{'alias': 'sushi', 'title': 'Sushi Bars'}]     4.0   \n",
       "4  [{'alias': 'sushi', 'title': 'Sushi Bars'}, {'...     4.5   \n",
       "\n",
       "                                         coordinates transactions price  \\\n",
       "0  {'latitude': 21.4540805, 'longitude': -158.022...           []    $$   \n",
       "1    {'latitude': 21.37878, 'longitude': -157.93136}   [delivery]    $$   \n",
       "2   {'latitude': 21.381708, 'longitude': -157.93995}   [delivery]    $$   \n",
       "3  {'latitude': 21.3385086, 'longitude': -158.079...   [delivery]    $$   \n",
       "4  {'latitude': 21.41379862638154, 'longitude': -...   [delivery]    $$   \n",
       "\n",
       "                                            location         phone  \\\n",
       "0  {'address1': '95-176 Kuahelani Ave', 'address2...  +18087840048   \n",
       "1  {'address1': '99-209 Moanalua Rd', 'address2':...  +18084852255   \n",
       "2  {'address1': '98-151 Pali Momi St', 'address2'...  +18085978000   \n",
       "3  {'address1': '91-590 Farrington Hwy', 'address...  +18086939922   \n",
       "4  {'address1': '45-934 Kamehameha Hwy', 'address...  +18082341688   \n",
       "\n",
       "    display_phone      distance  \n",
       "0  (808) 784-0048   6942.379386  \n",
       "1  (808) 485-2255  12122.550519  \n",
       "2  (808) 597-8000  11564.444122  \n",
       "3  (808) 693-9922  20050.213924  \n",
       "4  (808) 234-1688  18617.186416  "
      ]
     },
     "metadata": {},
     "output_type": "display_data"
    },
    {
     "data": {
      "text/html": [
       "<div>\n",
       "<style scoped>\n",
       "    .dataframe tbody tr th:only-of-type {\n",
       "        vertical-align: middle;\n",
       "    }\n",
       "\n",
       "    .dataframe tbody tr th {\n",
       "        vertical-align: top;\n",
       "    }\n",
       "\n",
       "    .dataframe thead th {\n",
       "        text-align: right;\n",
       "    }\n",
       "</style>\n",
       "<table border=\"1\" class=\"dataframe\">\n",
       "  <thead>\n",
       "    <tr style=\"text-align: right;\">\n",
       "      <th></th>\n",
       "      <th>id</th>\n",
       "      <th>alias</th>\n",
       "      <th>name</th>\n",
       "      <th>image_url</th>\n",
       "      <th>is_closed</th>\n",
       "      <th>url</th>\n",
       "      <th>review_count</th>\n",
       "      <th>categories</th>\n",
       "      <th>rating</th>\n",
       "      <th>coordinates</th>\n",
       "      <th>transactions</th>\n",
       "      <th>price</th>\n",
       "      <th>location</th>\n",
       "      <th>phone</th>\n",
       "      <th>display_phone</th>\n",
       "      <th>distance</th>\n",
       "    </tr>\n",
       "  </thead>\n",
       "  <tbody>\n",
       "    <tr>\n",
       "      <th>928</th>\n",
       "      <td>MrN9jY6TMxxaeVqO-16_GA</td>\n",
       "      <td>glazers-coffee-honolulu</td>\n",
       "      <td>Glazer's Coffee</td>\n",
       "      <td>https://s3-media3.fl.yelpcdn.com/bphoto/43knUv...</td>\n",
       "      <td>False</td>\n",
       "      <td>https://www.yelp.com/biz/glazers-coffee-honolu...</td>\n",
       "      <td>513</td>\n",
       "      <td>[{'alias': 'coffee', 'title': 'Coffee &amp; Tea'}]</td>\n",
       "      <td>4.0</td>\n",
       "      <td>{'latitude': 21.291274, 'longitude': -157.820459}</td>\n",
       "      <td>[delivery]</td>\n",
       "      <td>$$</td>\n",
       "      <td>{'address1': '2700 S King St', 'address2': '',...</td>\n",
       "      <td></td>\n",
       "      <td></td>\n",
       "      <td>26019.673686</td>\n",
       "    </tr>\n",
       "    <tr>\n",
       "      <th>929</th>\n",
       "      <td>SmuR7oFRQ2EUuEAjNmeQYw</td>\n",
       "      <td>la-pizza-rina-honolulu</td>\n",
       "      <td>La Pizza Rina</td>\n",
       "      <td>https://s3-media3.fl.yelpcdn.com/bphoto/_siWGW...</td>\n",
       "      <td>False</td>\n",
       "      <td>https://www.yelp.com/biz/la-pizza-rina-honolul...</td>\n",
       "      <td>376</td>\n",
       "      <td>[{'alias': 'italian', 'title': 'Italian'}, {'a...</td>\n",
       "      <td>3.5</td>\n",
       "      <td>{'latitude': 21.2980578, 'longitude': -157.839...</td>\n",
       "      <td>[delivery]</td>\n",
       "      <td>$$</td>\n",
       "      <td>{'address1': '1425 S King St', 'address2': '',...</td>\n",
       "      <td>+18089416634</td>\n",
       "      <td>(808) 941-6634</td>\n",
       "      <td>24294.771695</td>\n",
       "    </tr>\n",
       "    <tr>\n",
       "      <th>930</th>\n",
       "      <td>ExpKHaV8oY_FLrmjf3iDig</td>\n",
       "      <td>sharetea-honolulu</td>\n",
       "      <td>Sharetea</td>\n",
       "      <td>https://s3-media3.fl.yelpcdn.com/bphoto/GHMEmt...</td>\n",
       "      <td>False</td>\n",
       "      <td>https://www.yelp.com/biz/sharetea-honolulu?adj...</td>\n",
       "      <td>148</td>\n",
       "      <td>[{'alias': 'bubbletea', 'title': 'Bubble Tea'}...</td>\n",
       "      <td>3.5</td>\n",
       "      <td>{'latitude': 21.275531, 'longitude': -157.78593}</td>\n",
       "      <td>[delivery]</td>\n",
       "      <td>$$</td>\n",
       "      <td>{'address1': '4618 Kilauea Ave', 'address2': '...</td>\n",
       "      <td>+18087391368</td>\n",
       "      <td>(808) 739-1368</td>\n",
       "      <td>29562.680255</td>\n",
       "    </tr>\n",
       "    <tr>\n",
       "      <th>931</th>\n",
       "      <td>MiALjjd_s_Q-lSwUdjaFkQ</td>\n",
       "      <td>il-lupino-trattoria-and-wine-bar-honolulu</td>\n",
       "      <td>Il Lupino Trattoria &amp; Wine Bar</td>\n",
       "      <td>https://s3-media1.fl.yelpcdn.com/bphoto/_xncz_...</td>\n",
       "      <td>False</td>\n",
       "      <td>https://www.yelp.com/biz/il-lupino-trattoria-a...</td>\n",
       "      <td>1047</td>\n",
       "      <td>[{'alias': 'italian', 'title': 'Italian'}, {'a...</td>\n",
       "      <td>3.0</td>\n",
       "      <td>{'latitude': 21.278427202060843, 'longitude': ...</td>\n",
       "      <td>[pickup, delivery]</td>\n",
       "      <td>$$$</td>\n",
       "      <td>{'address1': '2233 Kalakaua Ave', 'address2': ...</td>\n",
       "      <td>+18089223400</td>\n",
       "      <td>(808) 922-3400</td>\n",
       "      <td>26716.909566</td>\n",
       "    </tr>\n",
       "    <tr>\n",
       "      <th>932</th>\n",
       "      <td>kkeb2W1dwRIt_1-_5v4O8A</td>\n",
       "      <td>jamba-honolulu-21</td>\n",
       "      <td>Jamba</td>\n",
       "      <td>https://s3-media3.fl.yelpcdn.com/bphoto/HPpyr6...</td>\n",
       "      <td>False</td>\n",
       "      <td>https://www.yelp.com/biz/jamba-honolulu-21?adj...</td>\n",
       "      <td>186</td>\n",
       "      <td>[{'alias': 'juicebars', 'title': 'Juice Bars &amp;...</td>\n",
       "      <td>3.0</td>\n",
       "      <td>{'latitude': 21.290836856803516, 'longitude': ...</td>\n",
       "      <td>[pickup, delivery]</td>\n",
       "      <td>$$</td>\n",
       "      <td>{'address1': '1450 Ala Moana Blvd', 'address2'...</td>\n",
       "      <td>+18089416132</td>\n",
       "      <td>(808) 941-6132</td>\n",
       "      <td>24758.369148</td>\n",
       "    </tr>\n",
       "  </tbody>\n",
       "</table>\n",
       "</div>"
      ],
      "text/plain": [
       "                         id                                      alias  \\\n",
       "928  MrN9jY6TMxxaeVqO-16_GA                    glazers-coffee-honolulu   \n",
       "929  SmuR7oFRQ2EUuEAjNmeQYw                     la-pizza-rina-honolulu   \n",
       "930  ExpKHaV8oY_FLrmjf3iDig                          sharetea-honolulu   \n",
       "931  MiALjjd_s_Q-lSwUdjaFkQ  il-lupino-trattoria-and-wine-bar-honolulu   \n",
       "932  kkeb2W1dwRIt_1-_5v4O8A                          jamba-honolulu-21   \n",
       "\n",
       "                               name  \\\n",
       "928                 Glazer's Coffee   \n",
       "929                   La Pizza Rina   \n",
       "930                        Sharetea   \n",
       "931  Il Lupino Trattoria & Wine Bar   \n",
       "932                           Jamba   \n",
       "\n",
       "                                             image_url  is_closed  \\\n",
       "928  https://s3-media3.fl.yelpcdn.com/bphoto/43knUv...      False   \n",
       "929  https://s3-media3.fl.yelpcdn.com/bphoto/_siWGW...      False   \n",
       "930  https://s3-media3.fl.yelpcdn.com/bphoto/GHMEmt...      False   \n",
       "931  https://s3-media1.fl.yelpcdn.com/bphoto/_xncz_...      False   \n",
       "932  https://s3-media3.fl.yelpcdn.com/bphoto/HPpyr6...      False   \n",
       "\n",
       "                                                   url  review_count  \\\n",
       "928  https://www.yelp.com/biz/glazers-coffee-honolu...           513   \n",
       "929  https://www.yelp.com/biz/la-pizza-rina-honolul...           376   \n",
       "930  https://www.yelp.com/biz/sharetea-honolulu?adj...           148   \n",
       "931  https://www.yelp.com/biz/il-lupino-trattoria-a...          1047   \n",
       "932  https://www.yelp.com/biz/jamba-honolulu-21?adj...           186   \n",
       "\n",
       "                                            categories  rating  \\\n",
       "928     [{'alias': 'coffee', 'title': 'Coffee & Tea'}]     4.0   \n",
       "929  [{'alias': 'italian', 'title': 'Italian'}, {'a...     3.5   \n",
       "930  [{'alias': 'bubbletea', 'title': 'Bubble Tea'}...     3.5   \n",
       "931  [{'alias': 'italian', 'title': 'Italian'}, {'a...     3.0   \n",
       "932  [{'alias': 'juicebars', 'title': 'Juice Bars &...     3.0   \n",
       "\n",
       "                                           coordinates        transactions  \\\n",
       "928  {'latitude': 21.291274, 'longitude': -157.820459}          [delivery]   \n",
       "929  {'latitude': 21.2980578, 'longitude': -157.839...          [delivery]   \n",
       "930   {'latitude': 21.275531, 'longitude': -157.78593}          [delivery]   \n",
       "931  {'latitude': 21.278427202060843, 'longitude': ...  [pickup, delivery]   \n",
       "932  {'latitude': 21.290836856803516, 'longitude': ...  [pickup, delivery]   \n",
       "\n",
       "    price                                           location         phone  \\\n",
       "928    $$  {'address1': '2700 S King St', 'address2': '',...                 \n",
       "929    $$  {'address1': '1425 S King St', 'address2': '',...  +18089416634   \n",
       "930    $$  {'address1': '4618 Kilauea Ave', 'address2': '...  +18087391368   \n",
       "931   $$$  {'address1': '2233 Kalakaua Ave', 'address2': ...  +18089223400   \n",
       "932    $$  {'address1': '1450 Ala Moana Blvd', 'address2'...  +18089416132   \n",
       "\n",
       "      display_phone      distance  \n",
       "928                  26019.673686  \n",
       "929  (808) 941-6634  24294.771695  \n",
       "930  (808) 739-1368  29562.680255  \n",
       "931  (808) 922-3400  26716.909566  \n",
       "932  (808) 941-6132  24758.369148  "
      ]
     },
     "metadata": {},
     "output_type": "display_data"
    }
   ],
   "source": [
    "#load final results\n",
    "final_df = pd.read_json(JSON_FILE)\n",
    "display(final_df.head(), final_df.tail())"
   ]
  },
  {
   "cell_type": "markdown",
   "id": "b244e101-b2d1-422c-a4e7-cb44c1a29337",
   "metadata": {},
   "source": [
    "## Checking for duplicates"
   ]
  },
  {
   "cell_type": "code",
   "execution_count": 19,
   "id": "e627dfcd-1943-4309-abbc-07aed16768ac",
   "metadata": {},
   "outputs": [
    {
     "data": {
      "text/plain": [
       "0"
      ]
     },
     "execution_count": 19,
     "metadata": {},
     "output_type": "execute_result"
    }
   ],
   "source": [
    "final_df.duplicated(subset=\"id\").sum()"
   ]
  },
  {
   "cell_type": "code",
   "execution_count": 20,
   "id": "fb653277-2c64-4352-9c31-fd1a96c34992",
   "metadata": {},
   "outputs": [
    {
     "data": {
      "text/plain": [
       "0"
      ]
     },
     "execution_count": 20,
     "metadata": {},
     "output_type": "execute_result"
    }
   ],
   "source": [
    "final_df=final_df.drop_duplicates(subset=\"id\")\n",
    "final_df.duplicated(subset=\"id\").sum()"
   ]
  },
  {
   "cell_type": "code",
   "execution_count": 21,
   "id": "89c31370-b002-4291-94a9-2d0bcf8947f9",
   "metadata": {},
   "outputs": [],
   "source": [
    "final_df.to_csv(\"Data/final_results_HNL_pizza.csv.gz\",\n",
    "               compression=\"gzip\",index=False)"
   ]
  }
 ],
 "metadata": {
  "kernelspec": {
   "display_name": "Python (dojo-env)",
   "language": "python",
   "name": "dojo-env"
  },
  "language_info": {
   "codemirror_mode": {
    "name": "ipython",
    "version": 3
   },
   "file_extension": ".py",
   "mimetype": "text/x-python",
   "name": "python",
   "nbconvert_exporter": "python",
   "pygments_lexer": "ipython3",
   "version": "3.10.10"
  },
  "widgets": {
   "application/vnd.jupyter.widget-state+json": {
    "state": {
     "023215261fb3468e92e10e2a3abb3314": {
      "model_module": "@jupyter-widgets/controls",
      "model_module_version": "2.0.0",
      "model_name": "FloatProgressModel",
      "state": {
       "bar_style": "success",
       "layout": "IPY_MODEL_0346dc9f733045c0a3880b1172c9917c",
       "max": 47,
       "style": "IPY_MODEL_85faead8494440c4a974bb30664512af",
       "value": 47
      }
     },
     "0346dc9f733045c0a3880b1172c9917c": {
      "model_module": "@jupyter-widgets/base",
      "model_module_version": "2.0.0",
      "model_name": "LayoutModel",
      "state": {}
     },
     "03f389b9d92e43359d76920fa44a9809": {
      "model_module": "@jupyter-widgets/base",
      "model_module_version": "2.0.0",
      "model_name": "LayoutModel",
      "state": {}
     },
     "1fdf7f446b864558baac979db601b6b2": {
      "model_module": "@jupyter-widgets/base",
      "model_module_version": "2.0.0",
      "model_name": "LayoutModel",
      "state": {}
     },
     "2106531523b644c1b3eafafc09109026": {
      "model_module": "@jupyter-widgets/base",
      "model_module_version": "2.0.0",
      "model_name": "LayoutModel",
      "state": {}
     },
     "32cf373126324161b48832e6f3aa744a": {
      "model_module": "@jupyter-widgets/controls",
      "model_module_version": "2.0.0",
      "model_name": "HTMLModel",
      "state": {
       "layout": "IPY_MODEL_573503fe6dae420b86878f60c0624ad6",
       "style": "IPY_MODEL_4604f56f6b464d10a3f9b59e18a3fac6",
       "value": "100%"
      }
     },
     "365de16f13f34d628a7d8e01c2dca6cc": {
      "model_module": "@jupyter-widgets/controls",
      "model_module_version": "2.0.0",
      "model_name": "HTMLStyleModel",
      "state": {
       "description_width": "",
       "font_size": null,
       "text_color": null
      }
     },
     "4604f56f6b464d10a3f9b59e18a3fac6": {
      "model_module": "@jupyter-widgets/controls",
      "model_module_version": "2.0.0",
      "model_name": "HTMLStyleModel",
      "state": {
       "description_width": "",
       "font_size": null,
       "text_color": null
      }
     },
     "4a0013885a144582acb01dc0644d99dd": {
      "model_module": "@jupyter-widgets/controls",
      "model_module_version": "2.0.0",
      "model_name": "HBoxModel",
      "state": {
       "children": [
        "IPY_MODEL_32cf373126324161b48832e6f3aa744a",
        "IPY_MODEL_023215261fb3468e92e10e2a3abb3314",
        "IPY_MODEL_c56f461b5be549f1aaf68e20497e0f65"
       ],
       "layout": "IPY_MODEL_03f389b9d92e43359d76920fa44a9809"
      }
     },
     "573503fe6dae420b86878f60c0624ad6": {
      "model_module": "@jupyter-widgets/base",
      "model_module_version": "2.0.0",
      "model_name": "LayoutModel",
      "state": {}
     },
     "7b939ba42d974f4c8e71ff7274f66d9c": {
      "model_module": "@jupyter-widgets/controls",
      "model_module_version": "2.0.0",
      "model_name": "ProgressStyleModel",
      "state": {
       "description_width": ""
      }
     },
     "7bd3de96557d4d6da04d3f23427f7e8a": {
      "model_module": "@jupyter-widgets/base",
      "model_module_version": "2.0.0",
      "model_name": "LayoutModel",
      "state": {}
     },
     "85faead8494440c4a974bb30664512af": {
      "model_module": "@jupyter-widgets/controls",
      "model_module_version": "2.0.0",
      "model_name": "ProgressStyleModel",
      "state": {
       "description_width": ""
      }
     },
     "8bffd5663778460896991b3e866ec55f": {
      "model_module": "@jupyter-widgets/base",
      "model_module_version": "2.0.0",
      "model_name": "LayoutModel",
      "state": {}
     },
     "a337025c7c6344b9bbb35b70ad5ddaee": {
      "model_module": "@jupyter-widgets/controls",
      "model_module_version": "2.0.0",
      "model_name": "HBoxModel",
      "state": {
       "children": [
        "IPY_MODEL_b3ff310eedf44240b332987e90982f90",
        "IPY_MODEL_a87b883a5163463388ca19912f3b11dd",
        "IPY_MODEL_dc4250da2dcf4b758bf7d6118ac8df2a"
       ],
       "layout": "IPY_MODEL_d3ffcccb2d624f68883cb5c99497ba09"
      }
     },
     "a87b883a5163463388ca19912f3b11dd": {
      "model_module": "@jupyter-widgets/controls",
      "model_module_version": "2.0.0",
      "model_name": "FloatProgressModel",
      "state": {
       "bar_style": "success",
       "layout": "IPY_MODEL_8bffd5663778460896991b3e866ec55f",
       "max": 47,
       "style": "IPY_MODEL_7b939ba42d974f4c8e71ff7274f66d9c",
       "value": 47
      }
     },
     "b3ff310eedf44240b332987e90982f90": {
      "model_module": "@jupyter-widgets/controls",
      "model_module_version": "2.0.0",
      "model_name": "HTMLModel",
      "state": {
       "layout": "IPY_MODEL_1fdf7f446b864558baac979db601b6b2",
       "style": "IPY_MODEL_bc5dd6d5bfc9405480ee31c1a6a9be10",
       "value": "100%"
      }
     },
     "bc5dd6d5bfc9405480ee31c1a6a9be10": {
      "model_module": "@jupyter-widgets/controls",
      "model_module_version": "2.0.0",
      "model_name": "HTMLStyleModel",
      "state": {
       "description_width": "",
       "font_size": null,
       "text_color": null
      }
     },
     "c56f461b5be549f1aaf68e20497e0f65": {
      "model_module": "@jupyter-widgets/controls",
      "model_module_version": "2.0.0",
      "model_name": "HTMLModel",
      "state": {
       "layout": "IPY_MODEL_2106531523b644c1b3eafafc09109026",
       "style": "IPY_MODEL_365de16f13f34d628a7d8e01c2dca6cc",
       "value": " 47/47 [01:08&lt;00:00,  1.81s/it]"
      }
     },
     "d35d8601dced4f028e343392502519c1": {
      "model_module": "@jupyter-widgets/controls",
      "model_module_version": "2.0.0",
      "model_name": "HTMLStyleModel",
      "state": {
       "description_width": "",
       "font_size": null,
       "text_color": null
      }
     },
     "d3ffcccb2d624f68883cb5c99497ba09": {
      "model_module": "@jupyter-widgets/base",
      "model_module_version": "2.0.0",
      "model_name": "LayoutModel",
      "state": {}
     },
     "dc4250da2dcf4b758bf7d6118ac8df2a": {
      "model_module": "@jupyter-widgets/controls",
      "model_module_version": "2.0.0",
      "model_name": "HTMLModel",
      "state": {
       "layout": "IPY_MODEL_7bd3de96557d4d6da04d3f23427f7e8a",
       "style": "IPY_MODEL_d35d8601dced4f028e343392502519c1",
       "value": " 47/47 [00:09&lt;00:00,  4.85it/s]"
      }
     }
    },
    "version_major": 2,
    "version_minor": 0
   }
  }
 },
 "nbformat": 4,
 "nbformat_minor": 5
}
